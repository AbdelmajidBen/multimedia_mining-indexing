{
 "cells": [
  {
   "cell_type": "code",
   "execution_count": 1,
   "metadata": {},
   "outputs": [
    {
     "name": "stderr",
     "output_type": "stream",
     "text": [
      "2024-10-16 16:49:43.758 python[99425:3671561] +[IMKClient subclass]: chose IMKClient_Legacy\n",
      "2024-10-16 16:49:43.758 python[99425:3671561] +[IMKInputSession subclass]: chose IMKInputSession_Legacy\n"
     ]
    },
    {
     "ename": "",
     "evalue": "",
     "output_type": "error",
     "traceback": [
      "\u001b[1;31mThe Kernel crashed while executing code in the the current cell or a previous cell. Please review the code in the cell(s) to identify a possible cause of the failure. Click <a href='https://aka.ms/vscodeJupyterKernelCrash'>here</a> for more info. View Jupyter <a href='command:jupyter.viewOutput'>log</a> for further details."
     ]
    }
   ],
   "source": [
    "import cv2\n",
    "import numpy as np\n",
    "import matplotlib.pyplot as plt\n",
    "\n",
    "# Fonction pour calculer et sauvegarder l'histogramme d'une image\n",
    "def save_histogram(image_path, hist_path):\n",
    "    # Charger l'image\n",
    "    image = cv2.imread(image_path)\n",
    "    if image is None:\n",
    "        raise ValueError(\"L'image n'a pas pu être chargée. Vérifiez le chemin d'accès.\")\n",
    "\n",
    "    # Convertir l'image de BGR à RGB\n",
    "    image = cv2.cvtColor(image, cv2.COLOR_BGR2RGB)\n",
    "\n",
    "    # Séparer les canaux de couleur\n",
    "    r, g, b = cv2.split(image)\n",
    "\n",
    "    # Calculer l'histogramme pour chaque canal\n",
    "    hist_r = cv2.calcHist([r], [0], None, [256], [0, 256])\n",
    "    hist_g = cv2.calcHist([g], [0], None, [256], [0, 256])\n",
    "    hist_b = cv2.calcHist([b], [0], None, [256], [0, 256])\n",
    "\n",
    "    # Sauvegarder les histogrammes sous forme de tableau NumPy\n",
    "    np.savez(hist_path, red=hist_r, green=hist_g, blue=hist_b)\n",
    "\n",
    "# Fonction pour appliquer l'histogramme à une autre image\n",
    "def apply_histogram(image_path, hist_path):\n",
    "    # Charger l'image à transformer\n",
    "    image = cv2.imread(image_path)\n",
    "    if image is None:\n",
    "        raise ValueError(\"L'image n'a pas pu être chargée. Vérifiez le chemin d'accès.\")\n",
    "\n",
    "    # Convertir l'image de BGR à RGB\n",
    "    image = cv2.cvtColor(image, cv2.COLOR_BGR2RGB)\n",
    "\n",
    "    # Séparer les canaux de couleur\n",
    "    r, g, b = cv2.split(image)\n",
    "\n",
    "    # Charger l'histogramme sauvegardé\n",
    "    hist_data = np.load(hist_path)\n",
    "\n",
    "    # Appliquer l'égalisation d'histogramme pour chaque canal\n",
    "    for i, hist in enumerate([hist_data['red'], hist_data['green'], hist_data['blue']]):\n",
    "        hist_cdf = hist.cumsum()  # Calculer la fonction de répartition cumulée (CDF)\n",
    "        hist_cdf = hist_cdf / hist_cdf[-1]  # Normaliser\n",
    "        new_values = np.floor(hist_cdf * 255).astype(int)  # Mapper les valeurs\n",
    "\n",
    "        # Appliquer la transformation de l'histogramme\n",
    "        if i == 0:\n",
    "            r = new_values[r]\n",
    "        elif i == 1:\n",
    "            g = new_values[g]\n",
    "        elif i == 2:\n",
    "            b = new_values[b]\n",
    "\n",
    "    # Combiner les canaux transformés\n",
    "    transformed_image = cv2.merge([r.astype(np.uint8), g.astype(np.uint8), b.astype(np.uint8)])\n",
    "\n",
    "    return transformed_image\n",
    "\n",
    "# Main\n",
    "# Chemins des images\n",
    "image1_path = '/Users/mac/Desktop/MST AISD/S3/mutimedia mining/multimedia-mining-indexing labs/lab3/images/im7.jpg'  # Remplacer par le chemin de votre première image\n",
    "image2_path = '/Users/mac/Desktop/MST AISD/S3/mutimedia mining/multimedia-mining-indexing labs/lab3/images/im8.jpg'  # Remplacer par le chemin de votre deuxième image\n",
    "hist_path = 'histogram.npz'  # Chemin pour sauvegarder l'histogramme\n",
    "\n",
    "# Sauvegarder l'histogramme de la première image\n",
    "save_histogram(image1_path, hist_path)\n",
    "\n",
    "# Appliquer l'histogramme à la deuxième image\n",
    "transformed_image = apply_histogram(image2_path, hist_path)\n",
    "\n",
    "cv2.imshow('Image Transformée', transformed_image)\n",
    "\n",
    "# Attendre qu'une touche soit pressée pour fermer la fenêtre\n",
    "while True:\n",
    "    if cv2.waitKey(1) & 0xFF != 255:  # Si une touche est pressée\n",
    "        break\n",
    "\n",
    "cv2.destroyAllWindows()"
   ]
  },
  {
   "cell_type": "code",
   "execution_count": null,
   "metadata": {},
   "outputs": [],
   "source": []
  }
 ],
 "metadata": {
  "kernelspec": {
   "display_name": "base",
   "language": "python",
   "name": "python3"
  },
  "language_info": {
   "codemirror_mode": {
    "name": "ipython",
    "version": 3
   },
   "file_extension": ".py",
   "mimetype": "text/x-python",
   "name": "python",
   "nbconvert_exporter": "python",
   "pygments_lexer": "ipython3",
   "version": "3.12.4"
  }
 },
 "nbformat": 4,
 "nbformat_minor": 2
}
