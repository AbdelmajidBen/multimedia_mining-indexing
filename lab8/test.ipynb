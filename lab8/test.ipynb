{
 "cells": [
  {
   "cell_type": "code",
   "execution_count": 1,
   "metadata": {},
   "outputs": [
    {
     "name": "stderr",
     "output_type": "stream",
     "text": [
      "2024-11-27 09:33:51.243 python[73315:2377831] +[IMKClient subclass]: chose IMKClient_Modern\n",
      "2024-11-27 09:33:51.243 python[73315:2377831] +[IMKInputSession subclass]: chose IMKInputSession_Modern\n"
     ]
    },
    {
     "ename": "",
     "evalue": "",
     "output_type": "error",
     "traceback": [
      "\u001b[1;31mThe Kernel crashed while executing code in the the current cell or a previous cell. Please review the code in the cell(s) to identify a possible cause of the failure. Click <a href='https://aka.ms/vscodeJupyterKernelCrash'>here</a> for more info. View Jupyter <a href='command:jupyter.viewOutput'>log</a> for further details."
     ]
    }
   ],
   "source": [
    "import numpy as np\n",
    "import cv2 as cv\n",
    "\n",
    "# Lecture de l'image\n",
    "img = cv.imread('/Users/mac/Desktop/MST AISD/S3/mutimedia mining/multimedia-mining-indexing labs/lab8/Images/a2.jpg')  # Remplacez par le chemin de l'image\n",
    "if img is None:\n",
    "    raise FileNotFoundError(\"L'image spécifiée est introuvable !\")\n",
    "\n",
    "# Conversion en niveaux de gris\n",
    "gray = cv.cvtColor(img, cv.COLOR_BGR2GRAY)\n",
    "\n",
    "# Variables globales pour le dessin\n",
    "drawing = False  # True si on dessine\n",
    "mode = True  # True pour les objets, False pour le fond\n",
    "ix, iy = -1, -1  # Coordonnées initiales\n",
    "\n",
    "# Préparer les marqueurs\n",
    "markers = np.zeros(gray.shape, dtype=np.int32)\n",
    "\n",
    "# Fonction de dessin\n",
    "def draw_circle(event, x, y, flags, param):\n",
    "    global ix, iy, drawing, mode\n",
    "    if event == cv.EVENT_LBUTTONDOWN:  # Clic gauche enfoncé\n",
    "        drawing = True\n",
    "        ix, iy = x, y\n",
    "    elif event == cv.EVENT_MOUSEMOVE:  # Mouvement de la souris\n",
    "        if drawing:\n",
    "            if mode:\n",
    "                cv.circle(markers, (x, y), 5, (2), -1)  # Étiquette 2 pour les objets\n",
    "            else:\n",
    "                cv.circle(markers, (x, y), 5, (1), -1)  # Étiquette 1 pour le fond\n",
    "    elif event == cv.EVENT_LBUTTONUP:  # Clic gauche relâché\n",
    "        drawing = False\n",
    "\n",
    "# Créer une fenêtre et l'associer à la fonction de dessin\n",
    "cv.namedWindow('Dessin')\n",
    "cv.setMouseCallback('Dessin', draw_circle)\n",
    "\n",
    "while True:\n",
    "    # Copie de l'image pour afficher les marqueurs\n",
    "    img_copy = img.copy()\n",
    "    img_copy[markers == 2] = [0, 255, 0]  # Zones objets en vert\n",
    "    img_copy[markers == 1] = [0, 0, 255]  # Zones fond en rouge\n",
    "    cv.imshow('Dessin', img_copy)\n",
    "    k = cv.waitKey(1) & 0xFF\n",
    "    if k == 27:  # Échap pour quitter\n",
    "        break\n",
    "    elif k == ord('m'):  # 'm' pour changer de mode\n",
    "        mode = not mode\n",
    "\n",
    "cv.destroyAllWindows()\n",
    "\n",
    "# Vérifier s'il y a des marqueurs avant de continuer\n",
    "if not np.any(markers == 2):\n",
    "    raise ValueError(\"Aucun marqueur d'objet n'a été défini. Dessinez des marqueurs avant de quitter !\")\n",
    "\n",
    "# Appliquer l'algorithme des lignes de partage des eaux\n",
    "markers[markers == 1] = 1  # Fond\n",
    "markers[markers == 2] = 2  # Objets\n",
    "markers[markers == 0] = 0  # Zones neutres\n",
    "\n",
    "# Application des lignes de partage des eaux\n",
    "markers_watershed = cv.watershed(img, markers)\n",
    "\n",
    "# Création de l'image résultat\n",
    "result = img.copy()\n",
    "result[markers_watershed == -1] = [255, 255, 255]  # Lignes de partage en blanc\n",
    "for label in range(2, markers.max() + 1):  # Coloration aléatoire pour chaque segment\n",
    "    result[markers_watershed == label] = [np.random.randint(0, 256), \n",
    "                                          np.random.randint(0, 256), \n",
    "                                          np.random.randint(0, 256)]\n",
    "\n",
    "# Affichage du résultat\n",
    "while True:\n",
    "    cv.imshow('Segmentation', result)\n",
    "    k = cv.waitKey(33)  # 33ms delay for ~30fps\n",
    "    if k == 27:  # Échap pour quitter\n",
    "        break\n",
    "\n",
    "cv.destroyAllWindows()"
   ]
  },
  {
   "cell_type": "code",
   "execution_count": null,
   "metadata": {},
   "outputs": [],
   "source": []
  }
 ],
 "metadata": {
  "kernelspec": {
   "display_name": "base",
   "language": "python",
   "name": "python3"
  },
  "language_info": {
   "codemirror_mode": {
    "name": "ipython",
    "version": 3
   },
   "file_extension": ".py",
   "mimetype": "text/x-python",
   "name": "python",
   "nbconvert_exporter": "python",
   "pygments_lexer": "ipython3",
   "version": "3.12.4"
  }
 },
 "nbformat": 4,
 "nbformat_minor": 2
}
